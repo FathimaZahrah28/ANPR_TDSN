{
 "cells": [
  {
   "cell_type": "code",
   "execution_count": 1,
   "id": "43ad1ad0",
   "metadata": {},
   "outputs": [
    {
     "name": "stderr",
     "output_type": "stream",
     "text": [
      "/Users/rozidatululummiah/Library/Python/3.9/lib/python/site-packages/urllib3/__init__.py:34: NotOpenSSLWarning: urllib3 v2 only supports OpenSSL 1.1.1+, currently the 'ssl' module is compiled with 'LibreSSL 2.8.3'. See: https://github.com/urllib3/urllib3/issues/3020\n",
      "  warnings.warn(\n"
     ]
    }
   ],
   "source": [
    "import os\n",
    "import csv\n",
    "import cv2\n",
    "import imutils\n",
    "import easyocr\n",
    "import webbrowser\n",
    "import numpy as np\n",
    "import pandas as pd\n",
    "import tensorflow as tf\n",
    "import pytesseract as pt\n",
    "import plotly.express as px\n",
    "import matplotlib.pyplot as plt\n",
    "import xml.etree.ElementTree as xet\n",
    "\n",
    "\n",
    "from glob import glob\n",
    "from skimage import io\n",
    "from shutil import copy\n",
    "from tensorflow.keras.models import Model\n",
    "from tensorflow.keras.callbacks import TensorBoard\n",
    "from sklearn.model_selection import train_test_split\n",
    "from tensorflow.keras.applications import InceptionResNetV2\n",
    "from tensorflow.keras.layers import Dense, Dropout, Flatten, Input\n",
    "from tensorflow.keras.preprocessing.image import load_img, img_to_array"
   ]
  },
  {
   "cell_type": "code",
   "execution_count": 2,
   "id": "c54b590f-ad12-4116-a849-1d09f0fc423a",
   "metadata": {},
   "outputs": [
    {
     "name": "stderr",
     "output_type": "stream",
     "text": [
      "WARNING:absl:At this time, the v2.11+ optimizer `tf.keras.optimizers.Adam` runs slowly on M1/M2 Macs, please use the legacy Keras optimizer instead, located at `tf.keras.optimizers.legacy.Adam`.\n"
     ]
    },
    {
     "name": "stdout",
     "output_type": "stream",
     "text": [
      "Model loaded Sucessfully\n"
     ]
    }
   ],
   "source": [
    "model = tf.keras.models.load_model('/Users/rozidatululummiah/Downloads/Tensorflow/models/research/object_detection.h5')\n",
    "print('Model loaded Sucessfully')"
   ]
  },
  {
   "cell_type": "code",
   "execution_count": 3,
   "id": "edb6efeb-9354-4d6f-8c79-4955a64af598",
   "metadata": {},
   "outputs": [],
   "source": [
    "def object_detection(path):\n",
    "    \n",
    "    # Read image\n",
    "    image = load_img(path) # PIL object\n",
    "    image = np.array(image,dtype=np.uint8) # 8 bit array (0,255)\n",
    "    image1 = load_img(path,target_size=(224,224))\n",
    "    \n",
    "    # Data preprocessing\n",
    "    image_arr_224 = img_to_array(image1)/255.0 # Convert to array & normalized\n",
    "    h,w,d = image.shape\n",
    "    test_arr = image_arr_224.reshape(1,224,224,3)\n",
    "    \n",
    "    # Make predictions\n",
    "    coords = model.predict(test_arr)\n",
    "    \n",
    "    # Denormalize the values\n",
    "    denorm = np.array([w,w,h,h])\n",
    "    coords = coords * denorm\n",
    "    coords = coords.astype(np.int32)\n",
    "    \n",
    "    # Draw bounding on top the image\n",
    "    xmin, xmax,ymin,ymax = coords[0]\n",
    "    pt1 =(xmin,ymin)\n",
    "    pt2 =(xmax,ymax)\n",
    "    cv2.rectangle(image,pt1,pt2,(0,255,0),3)\n",
    "    xmin ,xmax,ymin,ymax = coords[0]\n",
    "    roi = img[ymin:ymax,xmin:xmax]\n",
    "    fig = px.imshow(roi)\n",
    "    return text_2\n",
    "\n",
    "\n"
   ]
  },
  {
   "cell_type": "code",
   "execution_count": null,
   "id": "38485126-6185-47ce-9b1b-034ef6f2a2d3",
   "metadata": {},
   "outputs": [],
   "source": []
  },
  {
   "cell_type": "code",
   "execution_count": 4,
   "id": "353a201a-be83-4e5d-8243-f03ccc58d161",
   "metadata": {},
   "outputs": [],
   "source": [
    "def save_results(text1, text2, csv_filename):\n",
    "    with open(csv_filename, mode='a', newline='') as f:\n",
    "        csv_writer = csv.writer(f, delimiter=',', quotechar='\"', quoting=csv.QUOTE_MINIMAL)\n",
    "        csv_writer.writerow([text1], [text2])"
   ]
  },
  {
   "cell_type": "code",
   "execution_count": 5,
   "id": "f482c4a9-581c-473c-979c-bb566058d969",
   "metadata": {},
   "outputs": [],
   "source": [
    "def read_plat(images):\n",
    "    import imutils\n",
    "    img = cv2.imread(images)\n",
    "    gray = cv2.cvtColor(img, cv2.COLOR_BGR2GRAY) #Grayscale and Blur\n",
    "    #Apply filter and find edges for localization\n",
    "    bfilter = cv2.bilateralFilter(gray, 11, 17, 17) #Noise reduction\n",
    "    edged = cv2.Canny(bfilter, 30, 200) #Edge detection\n",
    "    # Find Contours and Apply Mask\n",
    "    keypoints = cv2.findContours(edged.copy(), cv2.RETR_TREE, cv2.CHAIN_APPROX_SIMPLE)\n",
    "    contours = imutils.grab_contours(keypoints)\n",
    "    contours = sorted(contours, key=cv2.contourArea, reverse=True)[:10]\n",
    "    \n",
    "    location = None\n",
    "    for contour in contours:\n",
    "        approx = cv2.approxPolyDP(contour, 10, True)\n",
    "        if len(approx) == 4:\n",
    "            location = approx\n",
    "            break\n",
    "            \n",
    "    mask = np.zeros(gray.shape, np.uint8)\n",
    "    new_image = cv2.drawContours(mask, [location], 0,255, -1)\n",
    "    new_image = cv2.bitwise_and(img, img, mask=mask)\n",
    "    \n",
    "    (x,y) = np.where(mask==255)\n",
    "    (x1, y1) = (np.min(x), np.min(y))\n",
    "    (x2, y2) = (np.max(x), np.max(y))\n",
    "    cropped_image = gray[x1:x2+1, y1:y2+1]\n",
    "    \n",
    "    #use easy ocr to read text\n",
    "    reader = easyocr.Reader(['en'])\n",
    "    result = reader.readtext(cropped_image)\n",
    "    text = result[0][-2]\n",
    "    return text"
   ]
  },
  {
   "cell_type": "code",
   "execution_count": 6,
   "id": "f5fd1a00-66b6-449e-a1a1-5e7d01016264",
   "metadata": {},
   "outputs": [],
   "source": [
    "import csv\n",
    "\n",
    "def cek(csv_filename, count):\n",
    "    with open(csv_filename, mode='r', newline='') as f:\n",
    "        csv_reader = csv.reader(f)\n",
    "        rows = list(csv_reader)\n",
    "\n",
    "        if len(rows) >= 2:  # Memastikan minimal ada dua baris untuk dibandingkan\n",
    "            text1 = rows[0][count]  # Mengambil nilai dari baris pertama\n",
    "            text2 = rows[1][count] # Mengambil nilai dari baris kedua\n",
    "\n",
    "            # Membandingkan nilai dari kedua baris\n",
    "            if text1 == text2:\n",
    "                return print(\"Barcode STNK dengan Plat No sesuai, Silahkan lewat!\")\n",
    "            else:\n",
    "                return print(\"Barcode STNK dengan Plat No tidak cocok!\")\n",
    "        else:\n",
    "            return print(\"Tidak cukup baris untuk dibandingkan.\")\n",
    "\n",
    "            \n",
    "\n"
   ]
  },
  {
   "cell_type": "code",
   "execution_count": 7,
   "id": "57bd178a",
   "metadata": {},
   "outputs": [
    {
     "name": "stderr",
     "output_type": "stream",
     "text": [
      "2023-11-20 17:54:38.845 Python[27120:915693] WARNING: Secure coding is not enabled for restorable state! Enable secure coding by implementing NSApplicationDelegate.applicationSupportsSecureRestorableState: and returning YES.\n"
     ]
    },
    {
     "name": "stdout",
     "output_type": "stream",
     "text": [
      "No license plate image detected.\n"
     ]
    }
   ],
   "source": [
    "harcascade = \"model/haarcascade_russian_plate_number.xml\"\n",
    "detector = cv2.QRCodeDetector()\n",
    "cap = cv2.VideoCapture(0)\n",
    "\n",
    "cap.set(3, 640)  # width\n",
    "cap.set(4, 480)  # height\n",
    "\n",
    "min_area = 500\n",
    "count = 0\n",
    "\n",
    "text_2 = None  # Initialize text_2 outside the loop\n",
    "\n",
    "while True:\n",
    "    success, img = cap.read()\n",
    "    data, _, _ = detector.detectAndDecode(img)\n",
    "\n",
    "    plate_cascade = cv2.CascadeClassifier(harcascade)\n",
    "    img_gray = cv2.cvtColor(img, cv2.COLOR_BGR2GRAY)\n",
    "\n",
    "    plates = plate_cascade.detectMultiScale(img_gray, 1.1, 4)\n",
    "\n",
    "    cv2.imshow(\"Result\", img)\n",
    "    for (x, y, w, h) in plates:\n",
    "        area = w * h\n",
    "\n",
    "        if area > min_area:\n",
    "            cv2.rectangle(img, (x, y), (x + w, y + h), (0, 255, 0), 2)\n",
    "            cv2.putText(img, \"Number Plate\", (x, y - 5), cv2.FONT_HERSHEY_COMPLEX_SMALL, 1, (255, 0, 255), 2)\n",
    "\n",
    "            img_roi = img[y: y + h, x:x + w]\n",
    "            cv2.imshow(\"ROI\", img_roi)\n",
    "            cv2.putText(img, \"Number Plate Detected\", (x, y - 5), cv2.FONT_HERSHEY_COMPLEX_SMALL, 1, (255, 0, 255), 2)\n",
    "            cv2.imwrite(\"detected_plates/scaned_img_\" + str(count) + \".jpg\", img_roi)\n",
    "            break\n",
    "        images = \"detected_plates/scaned_img_\" + str(count) + \".jpg\"  # Assign the value to 'images'\n",
    "        count += 1\n",
    "\n",
    "    if data:\n",
    "        if data.startswith('http') or data.startswith('https'):\n",
    "            # Jika QR code berisi URL, buka di web browser\n",
    "            webbrowser.open(data)\n",
    "            break\n",
    "        else:\n",
    "            # Jika QR code berisi teks, tampilkan teksnya\n",
    "            text_2 = data\n",
    "            break\n",
    "\n",
    "    cv2.imshow(\"Result\", img)\n",
    "    if cv2.waitKey(1) & 0xFF == ord('q'):  # Press 'q' to quit the loop\n",
    "        break\n",
    "\n",
    "# Release the camera and close all windows when 'q' is pressed\n",
    "cap.release()\n",
    "cv2.destroyAllWindows()\n",
    "\n",
    "# Check if 'images' is defined before calling object_detection\n",
    "if 'images' in locals():\n",
    "    text_1 = object_detection(images)\n",
    "    save_results(text_1, text_2, 'plat_nom.csv')\n",
    "else:\n",
    "    print(\"No license plate image detected.\")"
   ]
  },
  {
   "cell_type": "code",
   "execution_count": 10,
   "id": "4ef0deac",
   "metadata": {},
   "outputs": [
    {
     "name": "stdout",
     "output_type": "stream",
     "text": [
      "Tidak cukup baris untuk dibandingkan.\n"
     ]
    }
   ],
   "source": [
    "cek(\"plat_nom.csv\", count-1)"
   ]
  },
  {
   "cell_type": "code",
   "execution_count": null,
   "id": "8bfe7d75",
   "metadata": {},
   "outputs": [],
   "source": []
  }
 ],
 "metadata": {
  "kernelspec": {
   "display_name": "Python 3 (ipykernel)",
   "language": "python",
   "name": "python3"
  },
  "language_info": {
   "codemirror_mode": {
    "name": "ipython",
    "version": 3
   },
   "file_extension": ".py",
   "mimetype": "text/x-python",
   "name": "python",
   "nbconvert_exporter": "python",
   "pygments_lexer": "ipython3",
   "version": "3.9.7"
  }
 },
 "nbformat": 4,
 "nbformat_minor": 5
}
